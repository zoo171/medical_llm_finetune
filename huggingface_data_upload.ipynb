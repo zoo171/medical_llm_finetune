{
 "cells": [
  {
   "cell_type": "code",
   "execution_count": 1,
   "id": "da7b30f4-8748-4dd5-846c-920aada093c7",
   "metadata": {},
   "outputs": [],
   "source": [
    "import pandas as pd\n",
    "from datasets import load_dataset\n",
    "from datasets import Dataset"
   ]
  },
  {
   "cell_type": "code",
   "execution_count": null,
   "id": "1a45572a-075b-46ca-b253-3ba9f267a909",
   "metadata": {},
   "outputs": [
    {
     "name": "stdout",
     "output_type": "stream",
     "text": [
      "The token has not been saved to the git credentials helper. Pass `add_to_git_credential=True` in this function directly or `--add-to-git-credential` if using via `huggingface-cli` if you want to set the git credential as well.\n",
      "Token is valid (permission: write).\n",
      "Your token has been saved to /home/students/cs/sjuhun1/.cache/huggingface/token\n",
      "Login successful\n"
     ]
    }
   ],
   "source": [
    "import huggingface_hub\n",
    "huggingface_hub.login('')"
   ]
  },
  {
   "cell_type": "code",
   "execution_count": 3,
   "id": "23848d4c-316a-43c4-8ada-e63b45ce3855",
   "metadata": {},
   "outputs": [
    {
     "name": "stdout",
     "output_type": "stream",
     "text": [
      "                                              inputs  \\\n",
      "0  1. 포비딘인후스프레이액(포비돈요오드)(바닐라향), 2. 포비딘인후스프레이액(포비돈...   \n",
      "1  1.나잘스프레이오리지날(옥시메타졸린염산염)(수출용)(수출명 : Nasal Spray...   \n",
      "2  1.셀레나제100마이크로그램퍼오랄액(아셀렌산나트륨오수화물)2.셀레나제티퍼오랄액(아셀...   \n",
      "3  1.셀레뉴원오랄액(아셀렌산나트륨오수화물) 2.셀큐민185오랄액(아셀렌산나트륨오수화물...   \n",
      "4             1.영진구론산바몬드액2.영진구론산바몬드스파클링액에 대해 설명해주세요.   \n",
      "\n",
      "                                            response  \n",
      "0  [1. 포비딘인후스프레이액(포비돈요오드)(바닐라향), 2. 포비딘인후스프레이액(포비...  \n",
      "1  [1.나잘스프레이오리지날(옥시메타졸린염산염)(수출용)(수출명 : Nasal Spra...  \n",
      "2  [1.셀레나제100마이크로그램퍼오랄액(아셀렌산나트륨오수화물)2.셀레나제티퍼오랄액(아...  \n",
      "3  [1.셀레뉴원오랄액(아셀렌산나트륨오수화물) 2.셀큐민185오랄액(아셀렌산나트륨오수화...  \n",
      "4  [1.영진구론산바몬드액2.영진구론산바몬드스파클링액]는 제품명이며 해당 약품의 주성분...  \n"
     ]
    }
   ],
   "source": [
    "df = pd.read_csv(\"/home/students/cs/sjuhun1/llama3_rag_finetune/dataset/Q.csv\")\n",
    "print(df.head())"
   ]
  },
  {
   "cell_type": "code",
   "execution_count": 4,
   "id": "40eb1604-7ce8-40b6-bd9e-bffd73ebe7be",
   "metadata": {},
   "outputs": [
    {
     "data": {
      "text/plain": [
       "Dataset({\n",
       "    features: ['inputs', 'response'],\n",
       "    num_rows: 7037\n",
       "})"
      ]
     },
     "execution_count": 4,
     "metadata": {},
     "output_type": "execute_result"
    }
   ],
   "source": [
    "dataset = Dataset.from_pandas(df)\n",
    "dataset"
   ]
  },
  {
   "cell_type": "code",
   "execution_count": 40,
   "id": "3b618f7c-4818-492c-b412-5a57dad1ce2c",
   "metadata": {},
   "outputs": [
    {
     "data": {
      "application/vnd.jupyter.widget-view+json": {
       "model_id": "d6d793bd2e2b42929dbd41120b2711c9",
       "version_major": 2,
       "version_minor": 0
      },
      "text/plain": [
       "Uploading the dataset shards:   0%|          | 0/1 [00:00<?, ?it/s]"
      ]
     },
     "metadata": {},
     "output_type": "display_data"
    },
    {
     "data": {
      "application/vnd.jupyter.widget-view+json": {
       "model_id": "4672c202493446f99bca1d174d404aaa",
       "version_major": 2,
       "version_minor": 0
      },
      "text/plain": [
       "Creating parquet from Arrow format:   0%|          | 0/8 [00:00<?, ?ba/s]"
      ]
     },
     "metadata": {},
     "output_type": "display_data"
    },
    {
     "data": {
      "text/plain": [
       "CommitInfo(commit_url='https://huggingface.co/datasets/zoohun/med_llama3_all/commit/ee6544cdfb1ad270ed40c6262179844638a7e8f4', commit_message='Upload dataset', commit_description='', oid='ee6544cdfb1ad270ed40c6262179844638a7e8f4', pr_url=None, pr_revision=None, pr_num=None)"
      ]
     },
     "execution_count": 40,
     "metadata": {},
     "output_type": "execute_result"
    }
   ],
   "source": [
    "dataset.push_to_hub(\"med_llama3_all\")"
   ]
  },
  {
   "cell_type": "code",
   "execution_count": 5,
   "id": "c305272b-1f73-44ef-96da-144b2af28069",
   "metadata": {
    "scrolled": true
   },
   "outputs": [],
   "source": [
    "count = 0\n",
    "results = []\n",
    "a = \"\"\n",
    "for item in df['inputs']:\n",
    "    a = '<s>[INST]' + item + '[/INST]'  + df['response'][count] + '</s>'\n",
    "    count = count + 1\n",
    "    results.append(a)"
   ]
  },
  {
   "cell_type": "code",
   "execution_count": 6,
   "id": "19a27480-3620-470e-b69e-4d1e7a8c630f",
   "metadata": {},
   "outputs": [
    {
     "name": "stdout",
     "output_type": "stream",
     "text": [
      "<s>[INST]1. 포비딘인후스프레이액(포비돈요오드)(바닐라향), 2. 포비딘인후스프레이액(포비돈요오드)(청포도향)에 대해 설명해주세요.[/INST][1. 포비딘인후스프레이액(포비돈요오드)(바닐라향), 2. 포비딘인후스프레이액(포비돈요오드)(청포도향)]는 제품명이며 해당 약품의 주성분은 [포비돈 요오드] 이고 첨가제는 [프로필렌글리콜,청포도71334,자일리톨,유칼립톨,효소처리스테비아,L-멘톨,요오드화칼륨,바닐라향 HF-63374,에탄올,농글리세린,정제수] 입니다.</s>\n"
     ]
    }
   ],
   "source": [
    "print(results[0])"
   ]
  },
  {
   "cell_type": "code",
   "execution_count": 7,
   "id": "033969b3-ee38-4420-954c-e4a9b853d3b0",
   "metadata": {},
   "outputs": [
    {
     "data": {
      "text/plain": [
       "7037"
      ]
     },
     "execution_count": 7,
     "metadata": {},
     "output_type": "execute_result"
    }
   ],
   "source": [
    "len(results)"
   ]
  },
  {
   "cell_type": "code",
   "execution_count": 8,
   "id": "055fc34e-e4e1-4022-833b-e737bf38c639",
   "metadata": {},
   "outputs": [],
   "source": [
    "df['total'] = results"
   ]
  },
  {
   "cell_type": "code",
   "execution_count": 9,
   "id": "90075b52-3a07-4231-b781-4e3fe098482e",
   "metadata": {},
   "outputs": [
    {
     "data": {
      "text/plain": [
       "0       <s>[INST]1. 포비딘인후스프레이액(포비돈요오드)(바닐라향), 2. 포비딘인후...\n",
       "1       <s>[INST]1.나잘스프레이오리지날(옥시메타졸린염산염)(수출용)(수출명 : Na...\n",
       "2       <s>[INST]1.셀레나제100마이크로그램퍼오랄액(아셀렌산나트륨오수화물)2.셀레나...\n",
       "3       <s>[INST]1.셀레뉴원오랄액(아셀렌산나트륨오수화물) 2.셀큐민185오랄액(아셀...\n",
       "4       <s>[INST]1.영진구론산바몬드액2.영진구론산바몬드스파클링액에 대해 설명해주세요...\n",
       "                              ...                        \n",
       "7032    <s>[INST]히트펜정에 대해 설명해주세요.[/INST][히트펜정]는 제품명이며 ...\n",
       "7033    <s>[INST]히팅플러스정(카페인무수물)에 대해 설명해주세요.[/INST][히팅플...\n",
       "7034    <s>[INST]힘엔스틱액(L-아스파르트산-L-아르기닌수화물)에 대해 설명해주세요....\n",
       "7035    <s>[INST]힘톤플러스연질캡슐에 대해 설명해주세요.[/INST][힘톤플러스연질캡...\n",
       "7036    <s>[INST]힙스브이파워정에 대해 설명해주세요.[/INST][힙스브이파워정]는 ...\n",
       "Name: total, Length: 7037, dtype: object"
      ]
     },
     "execution_count": 9,
     "metadata": {},
     "output_type": "execute_result"
    }
   ],
   "source": [
    "df['total']"
   ]
  },
  {
   "cell_type": "code",
   "execution_count": 10,
   "id": "5e81608e-1ef7-4fa9-a00c-2c5aae011626",
   "metadata": {},
   "outputs": [
    {
     "data": {
      "application/vnd.jupyter.widget-view+json": {
       "model_id": "dc5b527a89844c1a850c23ddbcea0cbe",
       "version_major": 2,
       "version_minor": 0
      },
      "text/plain": [
       "Uploading the dataset shards:   0%|          | 0/1 [00:00<?, ?it/s]"
      ]
     },
     "metadata": {},
     "output_type": "display_data"
    },
    {
     "data": {
      "application/vnd.jupyter.widget-view+json": {
       "model_id": "21adf875563647d89a25d339ccd18aeb",
       "version_major": 2,
       "version_minor": 0
      },
      "text/plain": [
       "Creating parquet from Arrow format:   0%|          | 0/8 [00:00<?, ?ba/s]"
      ]
     },
     "metadata": {},
     "output_type": "display_data"
    },
    {
     "data": {
      "text/plain": [
       "CommitInfo(commit_url='https://huggingface.co/datasets/zoohun/zoo_med_Q_test2/commit/5ac404ef6f8c7e90f8f9225da3ff28f71393b024', commit_message='Upload dataset', commit_description='', oid='5ac404ef6f8c7e90f8f9225da3ff28f71393b024', pr_url=None, pr_revision=None, pr_num=None)"
      ]
     },
     "execution_count": 10,
     "metadata": {},
     "output_type": "execute_result"
    }
   ],
   "source": [
    "fine_tune_data = Dataset.from_dict({\"text\": df['total']})\n",
    "fine_tune_data.push_to_hub(\"zoo_med_Q_test2\")"
   ]
  },
  {
   "cell_type": "code",
   "execution_count": null,
   "id": "1d9a788d-ec52-48c8-a355-d739c652bc94",
   "metadata": {},
   "outputs": [],
   "source": []
  }
 ],
 "metadata": {
  "kernelspec": {
   "display_name": "Python 3 (ipykernel)",
   "language": "python",
   "name": "python3"
  },
  "language_info": {
   "codemirror_mode": {
    "name": "ipython",
    "version": 3
   },
   "file_extension": ".py",
   "mimetype": "text/x-python",
   "name": "python",
   "nbconvert_exporter": "python",
   "pygments_lexer": "ipython3",
   "version": "3.12.2"
  }
 },
 "nbformat": 4,
 "nbformat_minor": 5
}
