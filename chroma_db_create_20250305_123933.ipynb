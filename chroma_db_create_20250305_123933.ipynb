{
 "cells": [
  {
   "cell_type": "code",
   "execution_count": 3,
   "id": "67a4fd61-458b-4531-9c90-8cd1cf971ddc",
   "metadata": {},
   "outputs": [
    {
     "name": "stdout",
     "output_type": "stream",
     "text": [
      "\u001b[0m\u001b[01;34mchroma_db_eeve\u001b[0m/  eeve_Rag.ipynb  medicines_info.txt\n"
     ]
    }
   ],
   "source": [
    "ls"
   ]
  },
  {
   "cell_type": "code",
   "execution_count": 3,
   "id": "b81a6862-6eb9-4f5d-92c7-cf2608b47a53",
   "metadata": {},
   "outputs": [
    {
     "name": "stderr",
     "output_type": "stream",
     "text": [
      "/usr/anaconda3/envs/med/lib/python3.12/importlib/__init__.py:90: LangChainDeprecationWarning: As of langchain-core 0.3.0, LangChain uses pydantic v2 internally. The langchain_core.pydantic_v1 module was a compatibility shim for pydantic v1, and should no longer be used. Please update the code to import from Pydantic directly.\n",
      "\n",
      "For example, replace imports like: `from langchain_core.pydantic_v1 import BaseModel`\n",
      "with: `from pydantic import BaseModel`\n",
      "or the v1 compatibility namespace if you are working in a code base that has not been fully upgraded to pydantic 2 yet. \tfrom pydantic.v1 import BaseModel\n",
      "\n",
      "  return _bootstrap._gcd_import(name[level:], package, level)\n"
     ]
    }
   ],
   "source": [
    "import os\n",
    "\n",
    "# 3번 GPU만 사용\n",
    "os.environ[\"CUDA_VISIBLE_DEVICES\"] = \"3\"\n",
    "\n",
    "from langchain.vectorstores import Chroma\n",
    "from langchain.embeddings import HuggingFaceEmbeddings"
   ]
  },
  {
   "cell_type": "code",
   "execution_count": 8,
   "id": "8319665f-3d32-4854-a4e2-900730c53384",
   "metadata": {},
   "outputs": [
    {
     "name": "stdout",
     "output_type": "stream",
     "text": [
      "분할된 문서 수: 7037\n"
     ]
    }
   ],
   "source": [
    "# 1. HuggingFace 임베딩 모델 설정\n",
    "embeddings = HuggingFaceEmbeddings(model_name=\"intfloat/multilingual-e5-large-instruct\")\n",
    "\n",
    "# 2. Chroma DB 설정 (DB를 저장할 경로)\n",
    "persist_directory = \"chroma_db_eeve\"  # 저장 경로 설정\n",
    "vector_store = Chroma(persist_directory=persist_directory, embedding_function=embeddings)\n",
    "\n",
    "# 3. 텍스트 파일 읽기 및 데이터 분할\n",
    "with open('medicines_info.txt', 'r', encoding='utf-8') as file:\n",
    "    text = file.read()\n",
    "\n",
    "# '=====' 구분자로 나누기\n",
    "chunks = text.split('=====')\n",
    "print(f\"분할된 문서 수: {len(chunks)}\")"
   ]
  },
  {
   "cell_type": "code",
   "execution_count": 8,
   "id": "77f57eb4-3175-46bd-9b27-5f70756f57fc",
   "metadata": {},
   "outputs": [
    {
     "name": "stdout",
     "output_type": "stream",
     "text": [
      "약품 품목 기준 코드 : '201507217'\n",
      "제품명 : '1. 포비딘인후스프레이액(포비돈요오드)(바닐라향), 2. 포비딘인후스프레이액(포비돈요오드)(청포도향)'\n",
      "제품영문명 : 'Povidine Throat Spray Sol.'\n",
      "주성분 : '포비돈 요오드'\n",
      "주성분영문 : 'Povidone Iodine'\n",
      "첨가제 : '프로필렌글리콜,청포도71334,자일리톨,유칼립톨,효소처리스테비아,L-멘톨,요오드화칼륨,바닐라향 HF-63374,에탄올,농글리세린,정제수'\n",
      "의약품 분류 기준 : '일반의약품'\n",
      "\n"
     ]
    }
   ],
   "source": [
    "print(chunks[0])"
   ]
  },
  {
   "cell_type": "code",
   "execution_count": 9,
   "id": "d8cae857-a424-4f7a-9156-b38dcdc37ba7",
   "metadata": {
    "collapsed": true,
    "jupyter": {
     "outputs_hidden": true
    },
    "scrolled": true
   },
   "outputs": [
    {
     "ename": "KeyboardInterrupt",
     "evalue": "",
     "output_type": "error",
     "traceback": [
      "\u001b[0;31m---------------------------------------------------------------------------\u001b[0m",
      "\u001b[0;31mKeyboardInterrupt\u001b[0m                         Traceback (most recent call last)",
      "Cell \u001b[0;32mIn[9], line 11\u001b[0m\n\u001b[1;32m      8\u001b[0m     metadatas\u001b[38;5;241m.\u001b[39mappend({\u001b[38;5;124m\"\u001b[39m\u001b[38;5;124mchunk_id\u001b[39m\u001b[38;5;124m\"\u001b[39m: idx})  \u001b[38;5;66;03m# 각 chunk에 대한 메타데이터 (필요 시 추가 정보 저장 가능)\u001b[39;00m\n\u001b[1;32m     10\u001b[0m \u001b[38;5;66;03m# 벡터 스토어에 문서 및 임베딩 저장\u001b[39;00m\n\u001b[0;32m---> 11\u001b[0m \u001b[43mvector_store\u001b[49m\u001b[38;5;241;43m.\u001b[39;49m\u001b[43madd_texts\u001b[49m\u001b[43m(\u001b[49m\u001b[43mdocuments\u001b[49m\u001b[43m,\u001b[49m\u001b[43m \u001b[49m\u001b[43mmetadatas\u001b[49m\u001b[38;5;241;43m=\u001b[39;49m\u001b[43mmetadatas\u001b[49m\u001b[43m)\u001b[49m\n\u001b[1;32m     13\u001b[0m \u001b[38;5;66;03m# 5. Chroma DB 저장 완료\u001b[39;00m\n\u001b[1;32m     14\u001b[0m vector_store\u001b[38;5;241m.\u001b[39mpersist()\n",
      "File \u001b[0;32m/usr/anaconda3/envs/med/lib/python3.12/site-packages/langchain_community/vectorstores/chroma.py:276\u001b[0m, in \u001b[0;36mChroma.add_texts\u001b[0;34m(self, texts, metadatas, ids, **kwargs)\u001b[0m\n\u001b[1;32m    274\u001b[0m texts \u001b[38;5;241m=\u001b[39m \u001b[38;5;28mlist\u001b[39m(texts)\n\u001b[1;32m    275\u001b[0m \u001b[38;5;28;01mif\u001b[39;00m \u001b[38;5;28mself\u001b[39m\u001b[38;5;241m.\u001b[39m_embedding_function \u001b[38;5;129;01mis\u001b[39;00m \u001b[38;5;129;01mnot\u001b[39;00m \u001b[38;5;28;01mNone\u001b[39;00m:\n\u001b[0;32m--> 276\u001b[0m     embeddings \u001b[38;5;241m=\u001b[39m \u001b[38;5;28;43mself\u001b[39;49m\u001b[38;5;241;43m.\u001b[39;49m\u001b[43m_embedding_function\u001b[49m\u001b[38;5;241;43m.\u001b[39;49m\u001b[43membed_documents\u001b[49m\u001b[43m(\u001b[49m\u001b[43mtexts\u001b[49m\u001b[43m)\u001b[49m\n\u001b[1;32m    277\u001b[0m \u001b[38;5;28;01mif\u001b[39;00m metadatas:\n\u001b[1;32m    278\u001b[0m     \u001b[38;5;66;03m# fill metadatas with empty dicts if somebody\u001b[39;00m\n\u001b[1;32m    279\u001b[0m     \u001b[38;5;66;03m# did not specify metadata for all texts\u001b[39;00m\n\u001b[1;32m    280\u001b[0m     length_diff \u001b[38;5;241m=\u001b[39m \u001b[38;5;28mlen\u001b[39m(texts) \u001b[38;5;241m-\u001b[39m \u001b[38;5;28mlen\u001b[39m(metadatas)\n",
      "File \u001b[0;32m/usr/anaconda3/envs/med/lib/python3.12/site-packages/langchain_community/embeddings/huggingface.py:104\u001b[0m, in \u001b[0;36mHuggingFaceEmbeddings.embed_documents\u001b[0;34m(self, texts)\u001b[0m\n\u001b[1;32m    102\u001b[0m     sentence_transformers\u001b[38;5;241m.\u001b[39mSentenceTransformer\u001b[38;5;241m.\u001b[39mstop_multi_process_pool(pool)\n\u001b[1;32m    103\u001b[0m \u001b[38;5;28;01melse\u001b[39;00m:\n\u001b[0;32m--> 104\u001b[0m     embeddings \u001b[38;5;241m=\u001b[39m \u001b[38;5;28;43mself\u001b[39;49m\u001b[38;5;241;43m.\u001b[39;49m\u001b[43mclient\u001b[49m\u001b[38;5;241;43m.\u001b[39;49m\u001b[43mencode\u001b[49m\u001b[43m(\u001b[49m\n\u001b[1;32m    105\u001b[0m \u001b[43m        \u001b[49m\u001b[43mtexts\u001b[49m\u001b[43m,\u001b[49m\u001b[43m \u001b[49m\u001b[43mshow_progress_bar\u001b[49m\u001b[38;5;241;43m=\u001b[39;49m\u001b[38;5;28;43mself\u001b[39;49m\u001b[38;5;241;43m.\u001b[39;49m\u001b[43mshow_progress\u001b[49m\u001b[43m,\u001b[49m\u001b[43m \u001b[49m\u001b[38;5;241;43m*\u001b[39;49m\u001b[38;5;241;43m*\u001b[39;49m\u001b[38;5;28;43mself\u001b[39;49m\u001b[38;5;241;43m.\u001b[39;49m\u001b[43mencode_kwargs\u001b[49m\n\u001b[1;32m    106\u001b[0m \u001b[43m    \u001b[49m\u001b[43m)\u001b[49m\n\u001b[1;32m    108\u001b[0m \u001b[38;5;28;01mreturn\u001b[39;00m embeddings\u001b[38;5;241m.\u001b[39mtolist()\n",
      "File \u001b[0;32m/usr/anaconda3/envs/med/lib/python3.12/site-packages/sentence_transformers/SentenceTransformer.py:630\u001b[0m, in \u001b[0;36mSentenceTransformer.encode\u001b[0;34m(self, sentences, prompt_name, prompt, batch_size, show_progress_bar, output_value, precision, convert_to_numpy, convert_to_tensor, device, normalize_embeddings, **kwargs)\u001b[0m\n\u001b[1;32m    628\u001b[0m             \u001b[38;5;66;03m# fixes for #522 and #487 to avoid oom problems on gpu with large datasets\u001b[39;00m\n\u001b[1;32m    629\u001b[0m             \u001b[38;5;28;01mif\u001b[39;00m convert_to_numpy:\n\u001b[0;32m--> 630\u001b[0m                 embeddings \u001b[38;5;241m=\u001b[39m \u001b[43membeddings\u001b[49m\u001b[38;5;241;43m.\u001b[39;49m\u001b[43mcpu\u001b[49m\u001b[43m(\u001b[49m\u001b[43m)\u001b[49m\n\u001b[1;32m    632\u001b[0m         all_embeddings\u001b[38;5;241m.\u001b[39mextend(embeddings)\n\u001b[1;32m    634\u001b[0m all_embeddings \u001b[38;5;241m=\u001b[39m [all_embeddings[idx] \u001b[38;5;28;01mfor\u001b[39;00m idx \u001b[38;5;129;01min\u001b[39;00m np\u001b[38;5;241m.\u001b[39margsort(length_sorted_idx)]\n",
      "\u001b[0;31mKeyboardInterrupt\u001b[0m: "
     ]
    }
   ],
   "source": [
    "# 4. Chroma DB에 데이터 저장\n",
    "documents = []\n",
    "metadatas = []\n",
    "\n",
    "# 각 chunk에 대해 문서와 메타데이터를 생성\n",
    "for idx, chunk in enumerate(chunks):\n",
    "    documents.append(chunk)\n",
    "    metadatas.append({\"chunk_id\": idx})  # 각 chunk에 대한 메타데이터 (필요 시 추가 정보 저장 가능)\n",
    "\n",
    "# 벡터 스토어에 문서 및 임베딩 저장\n",
    "vector_store.add_texts(documents, metadatas=metadatas)\n",
    "\n",
    "# 5. Chroma DB 저장 완료\n",
    "vector_store.persist()\n",
    "print(\"Chroma DB 저장 완료.\")"
   ]
  },
  {
   "cell_type": "code",
   "execution_count": 9,
   "id": "3384f449-023d-4466-9fb7-e1f3392a9db4",
   "metadata": {},
   "outputs": [],
   "source": [
    "# 2. Chroma DB 로드 (임베딩 함수와 함께 설정)\n",
    "persist_directory = \"/home/students/cs/sjuhun1/EEVE_rag/chroma_db_eeve\"  # 이전에 저장한 DB의 경로\n",
    "vector_store = Chroma(persist_directory=persist_directory, embedding_function=embeddings)"
   ]
  },
  {
   "cell_type": "code",
   "execution_count": 18,
   "id": "d8136e36-ebed-4682-997f-26d6b9d1263b",
   "metadata": {},
   "outputs": [],
   "source": [
    "# 3. 질문 입력\n",
    "user_message = \"what is 나잘스프레이오리지날?\""
   ]
  },
  {
   "cell_type": "code",
   "execution_count": 19,
   "id": "bea6406f-d291-4878-a426-5355f0e3a7ee",
   "metadata": {},
   "outputs": [],
   "source": [
    "# 4. Chroma DB에서 유사한 문서 검색\n",
    "retrieved_docs = vector_store.similarity_search(user_message)"
   ]
  },
  {
   "cell_type": "code",
   "execution_count": 20,
   "id": "8e086c2d-d428-4893-8a0e-c80b2fe213de",
   "metadata": {},
   "outputs": [
    {
     "name": "stdout",
     "output_type": "stream",
     "text": [
      "\n",
      "약품 품목 기준 코드 : '201404778'\n",
      "제품명 : '1.나잘스프레이오리지날(옥시메타졸린염산염)(수출용)(수출명 : Nasal Spray Original) 2.나잘스프레이엑스트라모이스쳐라이징(옥시메타졸린염산염)(수출용)(수출명 : Nasal Spray Extra Moisturizing)'\n",
      "제품영문명 : 'Nasal Spray Original,  Nasal Spray Extra Moisturizing'\n",
      "주성분 : '옥시메타졸린염산염'\n",
      "주성분영문 : 'Oxymetazoline Hydrochloride'\n",
      "첨가제 : '벤잘코늄염화물,에데트산나트륨수화물,정제수,농글리세린'\n",
      "의약품 분류 기준 : '일반의약품'\n",
      "\n",
      "\n",
      "약품 품목 기준 코드 : '201210198'\n",
      "제품명 : '퓨어에이드나잘스프레이오리지날(옥시메타졸린염산염)(수출용)(수출명:Pure Aid Nasal Spray Original,  Pure Aid Nasal Spray Extra Moisturizing, ASSURED NASAL RELIEF SPRAY PUMP MIST ANTI-DRIP ORIGINAL Oxymetazoline HCI-Nasal Decongestant,\n",
      "\n",
      "VM PLUS Nasal Spray, Family Care Nasal Spray Original,\n",
      "\n",
      "Family Care Severe Congestion Nasal Spray ,\n",
      "\n",
      "Leader Extra Moisturizing Nasal Spray Original,\n",
      "\n",
      "Leader Severe Congestion Nasal Spray)'\n",
      "제품영문명 : 'Pure Aid Nasal Spray Original'\n",
      "주성분 : '옥시메타졸린염산염'\n",
      "주성분영문 : 'Oxymetazoline Hydrochloride'\n",
      "첨가제 : '인산이수소나트륨수화물,벤질알코올,프로필렌글리콜,dl-캄파,폴리소르베이트80,인산수소나트륨수화물,폴리에틸렌글리콜,에데트산나트륨수화물,포비돈,벤잘코늄염화물,유칼립톨,L-멘톨,정제수'\n",
      "의약품 분류 기준 : '일반의약품'\n",
      "\n",
      "\n",
      "약품 품목 기준 코드 : '200800438'\n",
      "제품명 : '마플러스나잘스프레이'\n",
      "제품영문명 : 'MAR Plus Nasal Spray'\n",
      "주성분 : '덱스판테놀/멸균천연해수'\n",
      "주성분영문 : 'Dexpanthenol/Sterile Sea Water'\n",
      "첨가제 : '인산이수소칼륨,고순도정제수'\n",
      "의약품 분류 기준 : '일반의약품'\n",
      "\n",
      "\n",
      "약품 품목 기준 코드 : '202004970'\n",
      "제품명 : '베베클나잘스프레이(염화나트륨)'\n",
      "제품영문명 : 'Bebecle Nasal Spray'\n",
      "주성분 : '염화나트륨'\n",
      "주성분영문 : 'Sodium Chloride'\n",
      "첨가제 : '무수인산일수소나트륨,인산이수소나트륨,벤잘코늄염화물,정제수'\n",
      "의약품 분류 기준 : '일반의약품'\n",
      "\n"
     ]
    }
   ],
   "source": [
    "# 검색된 문서들을 하나의 텍스트로 병합\n",
    "context = \"\\n\".join([doc.page_content for doc in retrieved_docs])\n",
    "\n",
    "print(context)"
   ]
  },
  {
   "cell_type": "code",
   "execution_count": 1,
   "id": "e3f42276-fd51-48e4-8fbf-4b362d352d3b",
   "metadata": {},
   "outputs": [
    {
     "data": {
      "application/vnd.jupyter.widget-view+json": {
       "model_id": "a1b19373eab24777bc46462fa6515379",
       "version_major": 2,
       "version_minor": 0
      },
      "text/plain": [
       "Loading checkpoint shards:   0%|          | 0/4 [00:00<?, ?it/s]"
      ]
     },
     "metadata": {},
     "output_type": "display_data"
    },
    {
     "data": {
      "text/plain": [
       "LlamaForCausalLM(\n",
       "  (model): LlamaModel(\n",
       "    (embed_tokens): Embedding(128256, 4096)\n",
       "    (layers): ModuleList(\n",
       "      (0-31): 32 x LlamaDecoderLayer(\n",
       "        (self_attn): LlamaSdpaAttention(\n",
       "          (q_proj): Linear(in_features=4096, out_features=4096, bias=False)\n",
       "          (k_proj): Linear(in_features=4096, out_features=1024, bias=False)\n",
       "          (v_proj): Linear(in_features=4096, out_features=1024, bias=False)\n",
       "          (o_proj): Linear(in_features=4096, out_features=4096, bias=False)\n",
       "          (rotary_emb): LlamaRotaryEmbedding()\n",
       "        )\n",
       "        (mlp): LlamaMLP(\n",
       "          (gate_proj): Linear(in_features=4096, out_features=14336, bias=False)\n",
       "          (up_proj): Linear(in_features=4096, out_features=14336, bias=False)\n",
       "          (down_proj): Linear(in_features=14336, out_features=4096, bias=False)\n",
       "          (act_fn): SiLU()\n",
       "        )\n",
       "        (input_layernorm): LlamaRMSNorm((4096,), eps=1e-05)\n",
       "        (post_attention_layernorm): LlamaRMSNorm((4096,), eps=1e-05)\n",
       "      )\n",
       "    )\n",
       "    (norm): LlamaRMSNorm((4096,), eps=1e-05)\n",
       "    (rotary_emb): LlamaRotaryEmbedding()\n",
       "  )\n",
       "  (lm_head): Linear(in_features=4096, out_features=128256, bias=False)\n",
       ")"
      ]
     },
     "execution_count": 1,
     "metadata": {},
     "output_type": "execute_result"
    }
   ],
   "source": [
    "import transformers\n",
    "import torch\n",
    "\n",
    "model_id = \"MLP-KTLim/llama-3-Korean-Bllossom-8B\"\n",
    "\n",
    "pipeline = transformers.pipeline(\n",
    "    \"text-generation\",\n",
    "    model=model_id,\n",
    "    model_kwargs={\"torch_dtype\": torch.bfloat16},\n",
    "    device_map=\"auto\",\n",
    ")\n",
    "\n",
    "pipeline.model.eval()"
   ]
  },
  {
   "cell_type": "code",
   "execution_count": 22,
   "id": "2d925744-9059-4a6a-b437-4bee71efd17c",
   "metadata": {
    "scrolled": true
   },
   "outputs": [
    {
     "name": "stdout",
     "output_type": "stream",
     "text": [
      "\n",
      "다음 문서의 내용을 바탕으로 질문에 답하세요:\n",
      "\n",
      "\n",
      "약품 품목 기준 코드 : '201404778'\n",
      "제품명 : '1.나잘스프레이오리지날(옥시메타졸린염산염)(수출용)(수출명 : Nasal Spray Original) 2.나잘스프레이엑스트라모이스쳐라이징(옥시메타졸린염산염)(수출용)(수출명 : Nasal Spray Extra Moisturizing)'\n",
      "제품영문명 : 'Nasal Spray Original,  Nasal Spray Extra Moisturizing'\n",
      "주성분 : '옥시메타졸린염산염'\n",
      "주성분영문 : 'Oxymetazoline Hydrochloride'\n",
      "첨가제 : '벤잘코늄염화물,에데트산나트륨수화물,정제수,농글리세린'\n",
      "의약품 분류 기준 : '일반의약품'\n",
      "\n",
      "\n",
      "약품 품목 기준 코드 : '201210198'\n",
      "제품명 : '퓨어에이드나잘스프레이오리지날(옥시메타졸린염산염)(수출용)(수출명:Pure Aid Nasal Spray Original,  Pure Aid Nasal Spray Extra Moisturizing, ASSURED NASAL RELIEF SPRAY PUMP MIST ANTI-DRIP ORIGINAL Oxymetazoline HCI-Nasal Decongestant,\n",
      "\n",
      "VM PLUS Nasal Spray, Family Care Nasal Spray Original,\n",
      "\n",
      "Family Care Severe Congestion Nasal Spray ,\n",
      "\n",
      "Leader Extra Moisturizing Nasal Spray Original,\n",
      "\n",
      "Leader Severe Congestion Nasal Spray)'\n",
      "제품영문명 : 'Pure Aid Nasal Spray Original'\n",
      "주성분 : '옥시메타졸린염산염'\n",
      "주성분영문 : 'Oxymetazoline Hydrochloride'\n",
      "첨가제 : '인산이수소나트륨수화물,벤질알코올,프로필렌글리콜,dl-캄파,폴리소르베이트80,인산수소나트륨수화물,폴리에틸렌글리콜,에데트산나트륨수화물,포비돈,벤잘코늄염화물,유칼립톨,L-멘톨,정제수'\n",
      "의약품 분류 기준 : '일반의약품'\n",
      "\n",
      "\n",
      "약품 품목 기준 코드 : '200800438'\n",
      "제품명 : '마플러스나잘스프레이'\n",
      "제품영문명 : 'MAR Plus Nasal Spray'\n",
      "주성분 : '덱스판테놀/멸균천연해수'\n",
      "주성분영문 : 'Dexpanthenol/Sterile Sea Water'\n",
      "첨가제 : '인산이수소칼륨,고순도정제수'\n",
      "의약품 분류 기준 : '일반의약품'\n",
      "\n",
      "\n",
      "약품 품목 기준 코드 : '202004970'\n",
      "제품명 : '베베클나잘스프레이(염화나트륨)'\n",
      "제품영문명 : 'Bebecle Nasal Spray'\n",
      "주성분 : '염화나트륨'\n",
      "주성분영문 : 'Sodium Chloride'\n",
      "첨가제 : '무수인산일수소나트륨,인산이수소나트륨,벤잘코늄염화물,정제수'\n",
      "의약품 분류 기준 : '일반의약품'\n",
      "\n",
      "\n",
      "\n",
      "\n"
     ]
    }
   ],
   "source": [
    "PROMPT = '''\n",
    "다음 문서의 내용을 바탕으로 질문에 답하세요:\\n\n",
    "{}\n",
    "\\n\n",
    "'''.format(context)\n",
    "\n",
    "print(PROMPT)"
   ]
  },
  {
   "cell_type": "code",
   "execution_count": 23,
   "id": "59ee607e-4ef2-4986-870d-e50051f840d3",
   "metadata": {},
   "outputs": [
    {
     "name": "stdout",
     "output_type": "stream",
     "text": [
      "what is 나잘스프레이오리지날?\n"
     ]
    }
   ],
   "source": [
    "instruction = user_message\n",
    "\n",
    "print(instruction)"
   ]
  },
  {
   "cell_type": "code",
   "execution_count": 24,
   "id": "4a3860d2-265d-4152-b012-297309d6f0bd",
   "metadata": {},
   "outputs": [
    {
     "name": "stdout",
     "output_type": "stream",
     "text": [
      "나잘스프레이오리지날은 옥시메타졸린염산염을 주성분으로 하는 일반의약품입니다. 옥시메타졸린염산염은 인두비염, 천식, 비염 등의 증상을 완화시키기 위해 사용되는 약물입니다. '나잘스프레이오리지날'은 이를 목적으로 하는 인두 스프레이 형태의 제품입니다. '오리지널'이라는 이름은 이 제품이 기본적인 형태로, 추가적인 보습 성분이 포함되지 않은 것을 의미할 수 있습니다. '나잘스프레이엑스트라모이스쳐라이징'은 이와 달리 추가적인 보습 성분이 포함된 형태로, 더 건조한 인두를 보다 잘 관리하기 위해 설계된 제품입니다.\n"
     ]
    }
   ],
   "source": [
    "messages = [\n",
    "    {\"role\": \"system\", \"content\": f\"{PROMPT}\"},\n",
    "    {\"role\": \"user\", \"content\": f\"{instruction}\"}\n",
    "    ]\n",
    "\n",
    "prompt = pipeline.tokenizer.apply_chat_template(\n",
    "        messages, \n",
    "        tokenize=False, \n",
    "        add_generation_prompt=True\n",
    ")\n",
    "\n",
    "terminators = [\n",
    "    pipeline.tokenizer.eos_token_id,\n",
    "    pipeline.tokenizer.convert_tokens_to_ids(\"<|eot_id|>\")\n",
    "]\n",
    "\n",
    "outputs = pipeline(\n",
    "    prompt,\n",
    "    max_new_tokens=2048,\n",
    "    eos_token_id=terminators,\n",
    "    do_sample=True,\n",
    "    temperature=0.6,\n",
    "    top_p=0.9\n",
    ")\n",
    "\n",
    "print(outputs[0][\"generated_text\"][len(prompt):])"
   ]
  }
 ],
 "metadata": {
  "kernelspec": {
   "display_name": "med",
   "language": "python",
   "name": "med"
  },
  "language_info": {
   "codemirror_mode": {
    "name": "ipython",
    "version": 3
   },
   "file_extension": ".py",
   "mimetype": "text/x-python",
   "name": "python",
   "nbconvert_exporter": "python",
   "pygments_lexer": "ipython3",
   "version": "3.12.2"
  }
 },
 "nbformat": 4,
 "nbformat_minor": 5
}
